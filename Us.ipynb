{
  "nbformat": 4,
  "nbformat_minor": 0,
  "metadata": {
    "colab": {
      "provenance": [],
      "toc_visible": true,
      "authorship_tag": "ABX9TyOxlkQOLks5VcXveMzLybVb",
      "include_colab_link": true
    },
    "kernelspec": {
      "name": "python3",
      "display_name": "Python 3"
    },
    "language_info": {
      "name": "python"
    }
  },
  "cells": [
    {
      "cell_type": "markdown",
      "metadata": {
        "id": "view-in-github",
        "colab_type": "text"
      },
      "source": [
        "<a href=\"https://colab.research.google.com/github/wander-asb/US_Accidents/blob/main/Us.ipynb\" target=\"_parent\"><img src=\"https://colab.research.google.com/assets/colab-badge.svg\" alt=\"Open In Colab\"/></a>"
      ]
    },
    {
      "cell_type": "markdown",
      "source": [
        "## Leitura de arquivos"
      ],
      "metadata": {
        "id": "XfBgE1ICITdm"
      }
    },
    {
      "cell_type": "code",
      "execution_count": 2,
      "metadata": {
        "id": "n_kQ6iuCGdGH"
      },
      "outputs": [],
      "source": [
        "!apt-get install openjdk-8-jdk-headless -qq > /dev/null\n",
        "!wget -q https://archive.apache.org/dist/spark/spark-3.1.2/spark-3.1.2-bin-hadoop2.7.tgz\n",
        "!tar xf spark-3.1.2-bin-hadoop2.7.tgz\n",
        "!pip install -q findspark"
      ]
    },
    {
      "cell_type": "code",
      "source": [
        "import os\n",
        "os.environ[\"JAVA_HOME\"] = \"/usr/lib/jvm/java-8-openjdk-amd64\"\n",
        "os.environ[\"SPARK_HOME\"] = \"/content/spark-3.1.2-bin-hadoop2.7\""
      ],
      "metadata": {
        "id": "_s9TKcQLG2D0"
      },
      "execution_count": 3,
      "outputs": []
    },
    {
      "cell_type": "code",
      "source": [
        "import findspark\n",
        "findspark.init()"
      ],
      "metadata": {
        "id": "AoXdEFVJHah-"
      },
      "execution_count": 4,
      "outputs": []
    },
    {
      "cell_type": "code",
      "source": [
        "from pyspark.sql import SparkSession\n",
        "\n",
        "spark = SparkSession.builder.master('local[*]').appName('Inicializando com Spark').getOrCreate()"
      ],
      "metadata": {
        "id": "biwNrWj_Hgaw"
      },
      "execution_count": 5,
      "outputs": []
    },
    {
      "cell_type": "code",
      "source": [
        "spark"
      ],
      "metadata": {
        "id": "IftKOJeQIiJN"
      },
      "execution_count": null,
      "outputs": []
    },
    {
      "cell_type": "code",
      "source": [
        "from google.colab                import drive\n",
        "\n",
        "drive.mount('/content/gdrive')"
      ],
      "metadata": {
        "colab": {
          "base_uri": "https://localhost:8080/"
        },
        "id": "ggzbIPvNIk6X",
        "outputId": "4c0c9562-f626-423e-9083-e33909b9dd46"
      },
      "execution_count": 6,
      "outputs": [
        {
          "output_type": "stream",
          "name": "stdout",
          "text": [
            "Mounted at /content/gdrive\n"
          ]
        }
      ]
    },
    {
      "cell_type": "code",
      "source": [
        "! mkdir ~/.kaggle"
      ],
      "metadata": {
        "id": "Gq1_z3DZMCIF"
      },
      "execution_count": 7,
      "outputs": []
    },
    {
      "cell_type": "code",
      "source": [
        "! cp /content/gdrive/MyDrive/kaggle_api/kaggle.json ~/.kaggle/kaggle.json"
      ],
      "metadata": {
        "id": "8D7IWhBLMYVF"
      },
      "execution_count": 8,
      "outputs": []
    },
    {
      "cell_type": "code",
      "source": [
        "! chmod 600 ~/.kaggle/kaggle.json"
      ],
      "metadata": {
        "id": "6-U9pLK-Mbn3"
      },
      "execution_count": 9,
      "outputs": []
    },
    {
      "cell_type": "code",
      "source": [
        "! kaggle datasets download -d sobhanmoosavi/us-accidents"
      ],
      "metadata": {
        "colab": {
          "base_uri": "https://localhost:8080/"
        },
        "id": "ES4G8gmCMoTw",
        "outputId": "864edeef-0451-4223-a6e6-042f22ace036"
      },
      "execution_count": 10,
      "outputs": [
        {
          "output_type": "stream",
          "name": "stdout",
          "text": [
            "Downloading us-accidents.zip to /content\n",
            "100% 652M/653M [00:33<00:00, 25.5MB/s]\n",
            "100% 653M/653M [00:33<00:00, 20.4MB/s]\n"
          ]
        }
      ]
    },
    {
      "cell_type": "code",
      "source": [
        "! unzip /content/us-accidents.zip"
      ],
      "metadata": {
        "colab": {
          "base_uri": "https://localhost:8080/"
        },
        "id": "UaC2ahN6M_IV",
        "outputId": "8112f42e-8dbb-46f6-eadc-875a74cf9e49"
      },
      "execution_count": 11,
      "outputs": [
        {
          "output_type": "stream",
          "name": "stdout",
          "text": [
            "Archive:  /content/us-accidents.zip\n",
            "  inflating: US_Accidents_March23.csv  \n"
          ]
        }
      ]
    },
    {
      "cell_type": "code",
      "source": [
        "data_dir = '/content/US_Accidents_March23.csv'"
      ],
      "metadata": {
        "id": "z4wV0JCxNN7b"
      },
      "execution_count": 12,
      "outputs": []
    },
    {
      "cell_type": "markdown",
      "source": [
        "## Bibliotecas"
      ],
      "metadata": {
        "id": "DTS2bxyy_8ld"
      }
    },
    {
      "cell_type": "code",
      "source": [
        "from pyspark.sql.functions import *"
      ],
      "metadata": {
        "id": "QUA36olG_7-G"
      },
      "execution_count": 48,
      "outputs": []
    },
    {
      "cell_type": "markdown",
      "source": [
        "## Leitura de dados\n",
        "\n",
        "### Features:\n",
        "\n",
        "ID: Um identificador exclusivo para cada acidente.\n",
        "\n",
        "Source: A fonte que relatou o acidente, como a polícia, operador de transporte público ou usuário do Waze.\n",
        "\n",
        "TMC: Código de Gerenciamento de Mensagens de Trânsito (TMC) é um código que descreve o evento de trânsito.\n",
        "\n",
        "Severity: A gravidade estimada do acidente, classificada em uma escala de 1 a 4, sendo 1 o menos grave e 4 o mais grave.\n",
        "\n",
        "Start_Time: A data e hora em que o acidente ocorreu.\n",
        "\n",
        "End_Time: A data e hora em que o acidente foi encerrado.\n",
        "\n",
        "Start_Lat: A latitude do local do acidente.\n",
        "\n",
        "Start_Lng: A longitude do local do acidente.\n",
        "\n",
        "End_Lat: A latitude do fim do local do acidente.\n",
        "\n",
        "End_Lng: A longitude do fim do local do acidente.\n",
        "\n",
        "Distance(mi): A distância do acidente em milhas.\n",
        "\n",
        "Description: Uma descrição textual do acidente.\n",
        "\n",
        "Number: O número da estrada onde o acidente ocorreu.\n",
        "\n",
        "Street: O nome da rua onde o acidente ocorreu.\n",
        "\n",
        "Side: O lado da rua onde o acidente ocorreu (esquerda ou direita).\n",
        "\n",
        "City: A cidade onde o acidente ocorreu.\n",
        "\n",
        "County: O condado onde o acidente ocorreu.\n",
        "\n",
        "State: O estado onde o acidente ocorreu.\n",
        "\n",
        "Zipcode: O código postal da área onde o acidente ocorreu.\n",
        "\n",
        "Country: O país onde o acidente ocorreu (sempre \"US\" para este conjunto de dados).\n",
        "\n",
        "Timezone: O fuso horário em que o acidente ocorreu.\n",
        "\n",
        "Airport_Code: O código do aeroporto próximo ao local do acidente.\n",
        "\n",
        "Weather_Timestamp: A data e hora em que as informações meteorológicas foram registradas.\n",
        "\n",
        "Temperature(F): A temperatura em Fahrenheit.\n",
        "\n",
        "Wind_Chill(F): A sensação térmica em Fahrenheit.\n",
        "\n",
        "Humidity(%): A umidade relativa do ar em porcentagem.\n",
        "\n",
        "Pressure(in): A pressão atmosférica em polegadas de mercúrio.\n",
        "\n",
        "Visibility(mi): A visibilidade em milhas.\n",
        "\n",
        "Wind_Direction: A direção do vento.\n",
        "\n",
        "Wind_Speed(mph): A velocidade do vento em milhas por hora.\n",
        "\n",
        "Precipitation(in): A quantidade de precipitação em polegadas.\n",
        "\n",
        "Weather_Condition: A condição climática no momento do acidente.\n",
        "\n",
        "Amenity: Um indicador se existe ou não uma comodidade (como restaurante, posto de gasolina, etc.) próximo ao local do acidente.\n",
        "\n",
        "Bump: Um indicador se existe ou não uma irregularidade na estrada próxima ao local do acidente.\n",
        "\n",
        "Crossing: Um indicador se existe ou não uma travessia de pedestres próxima ao local do acidente.\n",
        "\n",
        "Give_Way: Um indicador se existe ou não uma placa de \"ceda a passagem\" próxima ao local do acidente.\n",
        "\n",
        "Junction: Um indicador se existe ou não um cruzamento próximo ao local do acidente.\n",
        "\n",
        "No_Exit: Um indicador se existe ou não uma saída próxima ao local do acidente.\n",
        "\n",
        "Railway: Um indicador se existe ou não uma ferrovia próxima ao local do acidente.\n",
        "\n",
        "Roundabout: Um indicador se existe ou não uma rotatória próxima ao local do acidente.\n",
        "\n",
        "Station: Um indicador se existe ou não uma estação (como de ônibus ou de trem) próxima ao local do acidente.\n",
        "\n",
        "Stop: Um indicador se existe ou não uma parada próxima ao local do acidente.\n",
        "\n",
        "Traffic_Calming: Um indicador se existe ou não um dispositivo de controle de tráfego (como quebra-molas) próximo ao local do acidente.\n",
        "\n",
        "Traffic_Signal: Um indicador se existe ou não um semáforo próximo ao local do acidente.\n",
        "\n",
        "Turning_Loop: Um indicador se existe ou não uma alça de conversão próxima ao local do acidente.\n",
        "\n",
        "Sunrise_Sunset: Indica se o acidente ocorreu durante o nascer ou pôr do sol.\n",
        "\n",
        "Civil_Twilight: Indica se o acidente ocorreu durante o crepúsculo civil (luz do dia).\n",
        "\n",
        "Nautical_Twilight: Indica se o acidente ocorreu durante o crepúsculo náutico (luz reduzida).\n",
        "\n",
        "Astronomical_Twilight: Indica se o acidente ocorreu durante o crepúsculo astronômico (escuridão total)."
      ],
      "metadata": {
        "id": "C8MLuO4nxbze"
      }
    },
    {
      "cell_type": "code",
      "source": [
        "us_accident =  spark.read.csv(data_dir, header=True, inferSchema=True)\n",
        "us_accident.show(5)"
      ],
      "metadata": {
        "id": "uEydEmDJMwwY",
        "colab": {
          "base_uri": "https://localhost:8080/"
        },
        "outputId": "0b57bc41-0fda-4cbd-a33f-e23c24f94a8c"
      },
      "execution_count": 53,
      "outputs": [
        {
          "output_type": "stream",
          "name": "stdout",
          "text": [
            "+---+-------+--------+-------------------+-------------------+-----------------+------------------+-------+-------+------------+--------------------+--------------------+------------+----------+-----+----------+-------+----------+------------+-------------------+--------------+-------------+-----------+------------+--------------+--------------+---------------+-----------------+-----------------+-------+-----+--------+--------+--------+-------+-------+----------+-------+-----+---------------+--------------+------------+--------------+--------------+-----------------+---------------------+\n",
            "| ID| Source|Severity|         Start_Time|           End_Time|        Start_Lat|         Start_Lng|End_Lat|End_Lng|Distance(mi)|         Description|              Street|        City|    County|State|   Zipcode|Country|  Timezone|Airport_Code|  Weather_Timestamp|Temperature(F)|Wind_Chill(F)|Humidity(%)|Pressure(in)|Visibility(mi)|Wind_Direction|Wind_Speed(mph)|Precipitation(in)|Weather_Condition|Amenity| Bump|Crossing|Give_Way|Junction|No_Exit|Railway|Roundabout|Station| Stop|Traffic_Calming|Traffic_Signal|Turning_Loop|Sunrise_Sunset|Civil_Twilight|Nautical_Twilight|Astronomical_Twilight|\n",
            "+---+-------+--------+-------------------+-------------------+-----------------+------------------+-------+-------+------------+--------------------+--------------------+------------+----------+-----+----------+-------+----------+------------+-------------------+--------------+-------------+-----------+------------+--------------+--------------+---------------+-----------------+-----------------+-------+-----+--------+--------+--------+-------+-------+----------+-------+-----+---------------+--------------+------------+--------------+--------------+-----------------+---------------------+\n",
            "|A-1|Source2|       3|2016-02-08 05:46:00|2016-02-08 11:00:00|        39.865147|        -84.058723|   null|   null|        0.01|Right lane blocke...|              I-70 E|      Dayton|Montgomery|   OH|     45424|     US|US/Eastern|        KFFO|2016-02-08 05:58:00|          36.9|         null|       91.0|       29.68|          10.0|          Calm|           null|             0.02|       Light Rain|  false|false|   false|   false|   false|  false|  false|     false|  false|false|          false|         false|       false|         Night|         Night|            Night|                Night|\n",
            "|A-2|Source2|       2|2016-02-08 06:07:59|2016-02-08 06:37:59|39.92805900000001|        -82.831184|   null|   null|        0.01|Accident on Brice...|            Brice Rd|Reynoldsburg|  Franklin|   OH|43068-3402|     US|US/Eastern|        KCMH|2016-02-08 05:51:00|          37.9|         null|      100.0|       29.65|          10.0|          Calm|           null|              0.0|       Light Rain|  false|false|   false|   false|   false|  false|  false|     false|  false|false|          false|         false|       false|         Night|         Night|            Night|                  Day|\n",
            "|A-3|Source2|       2|2016-02-08 06:49:27|2016-02-08 07:19:27|        39.063148|        -84.032608|   null|   null|        0.01|Accident on OH-32...|      State Route 32|Williamsburg|  Clermont|   OH|     45176|     US|US/Eastern|        KI69|2016-02-08 06:56:00|          36.0|         33.3|      100.0|       29.67|          10.0|            SW|            3.5|             null|         Overcast|  false|false|   false|   false|   false|  false|  false|     false|  false|false|          false|          true|       false|         Night|         Night|              Day|                  Day|\n",
            "|A-4|Source2|       3|2016-02-08 07:23:34|2016-02-08 07:53:34|        39.747753|-84.20558199999998|   null|   null|        0.01|Accident on I-75 ...|              I-75 S|      Dayton|Montgomery|   OH|     45417|     US|US/Eastern|        KDAY|2016-02-08 07:38:00|          35.1|         31.0|       96.0|       29.64|           9.0|            SW|            4.6|             null|    Mostly Cloudy|  false|false|   false|   false|   false|  false|  false|     false|  false|false|          false|         false|       false|         Night|           Day|              Day|                  Day|\n",
            "|A-5|Source2|       2|2016-02-08 07:39:07|2016-02-08 08:09:07|        39.627781|        -84.188354|   null|   null|        0.01|Accident on McEwe...|Miamisburg Center...|      Dayton|Montgomery|   OH|     45459|     US|US/Eastern|        KMGY|2016-02-08 07:53:00|          36.0|         33.3|       89.0|       29.65|           6.0|            SW|            3.5|             null|    Mostly Cloudy|  false|false|   false|   false|   false|  false|  false|     false|  false|false|          false|          true|       false|           Day|           Day|              Day|                  Day|\n",
            "+---+-------+--------+-------------------+-------------------+-----------------+------------------+-------+-------+------------+--------------------+--------------------+------------+----------+-----+----------+-------+----------+------------+-------------------+--------------+-------------+-----------+------------+--------------+--------------+---------------+-----------------+-----------------+-------+-----+--------+--------+--------+-------+-------+----------+-------+-----+---------------+--------------+------------+--------------+--------------+-----------------+---------------------+\n",
            "only showing top 5 rows\n",
            "\n"
          ]
        }
      ]
    },
    {
      "cell_type": "code",
      "source": [
        "us_accident.count()"
      ],
      "metadata": {
        "colab": {
          "base_uri": "https://localhost:8080/"
        },
        "id": "17ChinqM0Cfj",
        "outputId": "923313a3-a90f-448f-b39d-8a5630e918c7"
      },
      "execution_count": 34,
      "outputs": [
        {
          "output_type": "execute_result",
          "data": {
            "text/plain": [
              "7728394"
            ]
          },
          "metadata": {},
          "execution_count": 34
        }
      ]
    },
    {
      "cell_type": "code",
      "source": [
        "us_accident.printSchema()"
      ],
      "metadata": {
        "colab": {
          "base_uri": "https://localhost:8080/"
        },
        "id": "osOu3zq30EX2",
        "outputId": "5dda6841-8a1e-4a31-f3b5-1392fb8d0823"
      },
      "execution_count": 35,
      "outputs": [
        {
          "output_type": "stream",
          "name": "stdout",
          "text": [
            "root\n",
            " |-- ID: string (nullable = true)\n",
            " |-- Source: string (nullable = true)\n",
            " |-- Severity: integer (nullable = true)\n",
            " |-- Start_Time: string (nullable = true)\n",
            " |-- End_Time: string (nullable = true)\n",
            " |-- Start_Lat: double (nullable = true)\n",
            " |-- Start_Lng: double (nullable = true)\n",
            " |-- End_Lat: double (nullable = true)\n",
            " |-- End_Lng: double (nullable = true)\n",
            " |-- Distance(mi): double (nullable = true)\n",
            " |-- Description: string (nullable = true)\n",
            " |-- Street: string (nullable = true)\n",
            " |-- City: string (nullable = true)\n",
            " |-- County: string (nullable = true)\n",
            " |-- State: string (nullable = true)\n",
            " |-- Zipcode: string (nullable = true)\n",
            " |-- Country: string (nullable = true)\n",
            " |-- Timezone: string (nullable = true)\n",
            " |-- Airport_Code: string (nullable = true)\n",
            " |-- Weather_Timestamp: string (nullable = true)\n",
            " |-- Temperature(F): double (nullable = true)\n",
            " |-- Wind_Chill(F): double (nullable = true)\n",
            " |-- Humidity(%): double (nullable = true)\n",
            " |-- Pressure(in): double (nullable = true)\n",
            " |-- Visibility(mi): double (nullable = true)\n",
            " |-- Wind_Direction: string (nullable = true)\n",
            " |-- Wind_Speed(mph): double (nullable = true)\n",
            " |-- Precipitation(in): double (nullable = true)\n",
            " |-- Weather_Condition: string (nullable = true)\n",
            " |-- Amenity: boolean (nullable = true)\n",
            " |-- Bump: boolean (nullable = true)\n",
            " |-- Crossing: boolean (nullable = true)\n",
            " |-- Give_Way: boolean (nullable = true)\n",
            " |-- Junction: boolean (nullable = true)\n",
            " |-- No_Exit: boolean (nullable = true)\n",
            " |-- Railway: boolean (nullable = true)\n",
            " |-- Roundabout: boolean (nullable = true)\n",
            " |-- Station: boolean (nullable = true)\n",
            " |-- Stop: boolean (nullable = true)\n",
            " |-- Traffic_Calming: boolean (nullable = true)\n",
            " |-- Traffic_Signal: boolean (nullable = true)\n",
            " |-- Turning_Loop: boolean (nullable = true)\n",
            " |-- Sunrise_Sunset: string (nullable = true)\n",
            " |-- Civil_Twilight: string (nullable = true)\n",
            " |-- Nautical_Twilight: string (nullable = true)\n",
            " |-- Astronomical_Twilight: string (nullable = true)\n",
            "\n"
          ]
        }
      ]
    },
    {
      "cell_type": "markdown",
      "source": [
        "## Análise Exploratória de Dados"
      ],
      "metadata": {
        "id": "GhMk4aRFHJzk"
      }
    },
    {
      "cell_type": "markdown",
      "source": [
        "## Análise de Estados e cidades"
      ],
      "metadata": {
        "id": "fPQxUSj_Hu4a"
      }
    },
    {
      "cell_type": "code",
      "source": [
        "#Indicador dos Estados que mais ocorrem acidentes nos Estados Unidos\n",
        "us_accident.groupby('State').agg(count('ID').alias('Qtd de acidentes')).sort(desc('Qtd de acidentes')).show()"
      ],
      "metadata": {
        "colab": {
          "base_uri": "https://localhost:8080/"
        },
        "id": "BPP-N5yYOHeG",
        "outputId": "877861c1-dcd8-421a-cf76-d532f80d9670"
      },
      "execution_count": 52,
      "outputs": [
        {
          "output_type": "stream",
          "name": "stdout",
          "text": [
            "+-----+----------------+\n",
            "|State|Qtd de acidentes|\n",
            "+-----+----------------+\n",
            "|   CA|         1741433|\n",
            "|   FL|          880192|\n",
            "|   TX|          582837|\n",
            "|   SC|          382557|\n",
            "|   NY|          347960|\n",
            "|   NC|          338199|\n",
            "|   VA|          303301|\n",
            "|   PA|          296620|\n",
            "|   MN|          192084|\n",
            "|   OR|          179660|\n",
            "|   AZ|          170609|\n",
            "|   GA|          169234|\n",
            "|   IL|          168958|\n",
            "|   TN|          167388|\n",
            "|   MI|          162191|\n",
            "|   LA|          149701|\n",
            "|   NJ|          140719|\n",
            "|   MD|          140417|\n",
            "|   OH|          118115|\n",
            "|   WA|          108221|\n",
            "+-----+----------------+\n",
            "only showing top 20 rows\n",
            "\n"
          ]
        }
      ]
    },
    {
      "cell_type": "code",
      "source": [
        "#Avaliamos as 10 cidades que mais ocorreram relatos de acidentes de acordo com a condição climática\n",
        "df_cidades = us_accident.where(\n",
        "    col('State')=='CA'\n",
        "    ).withColumn('Date', to_date(col('Start_time'))).select('Date','Weather_Condition','City')\\\n",
        "      .groupby('City','Weather_Condition').agg(count('Date').alias('Qtde de acidentes'))\n",
        "\n",
        "#Ao definir o tipo de condição climárica por cidade e apresentando seus respectivos dados quantitativos.\n",
        "      #Avalia-se então, qual cidade apresenta maior número de acidentes e qual condição climática torna-se causa de preocupação?"
      ],
      "metadata": {
        "id": "veH0m9i1_a3S"
      },
      "execution_count": 72,
      "outputs": []
    },
    {
      "cell_type": "code",
      "source": [],
      "metadata": {
        "id": "iatnuj_sCszG"
      },
      "execution_count": null,
      "outputs": []
    }
  ]
}